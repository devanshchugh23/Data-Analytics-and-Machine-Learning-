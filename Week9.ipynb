{
 "cells": [
  {
   "cell_type": "markdown",
   "id": "87899cf5",
   "metadata": {},
   "source": [
    
   ]
  },
  {
   "cell_type": "code",
   "execution_count": 60,
   "id": "e3e37fc4",
   "metadata": {},
   "outputs": [],
   "source": [
    "import numpy as np\n",
    "import pandas as pd\n",
    "from matplotlib import pyplot as plt\n",
    "import seaborn as sns"
   ]
  },
  {
   "cell_type": "markdown",
   "id": "b37350dd",
   "metadata": {},
   "source": [
    "1. Read and write a summary of the metadata ."
   ]
  },
  {
   "cell_type": "code",
   "execution_count": 61,
   "id": "18875de2",
   "metadata": {},
   "outputs": [],
   "source": [
    "df = pd.read_excel('Online Retail.xlsx', parse_dates=True, index_col='InvoiceDate')"
   ]
  },
  {
   "cell_type": "code",
   "execution_count": 62,
   "id": "d08ff7b1",
   "metadata": {},
   "outputs": [
    {
     "data": {
      "text/html": [
       "<div>\n",
       "<style scoped>\n",
       "    .dataframe tbody tr th:only-of-type {\n",
       "        vertical-align: middle;\n",
       "    }\n",
       "\n",
       "    .dataframe tbody tr th {\n",
       "        vertical-align: top;\n",
       "    }\n",
       "\n",
       "    .dataframe thead th {\n",
       "        text-align: right;\n",
       "    }\n",
       "</style>\n",
       "<table border=\"1\" class=\"dataframe\">\n",
       "  <thead>\n",
       "    <tr style=\"text-align: right;\">\n",
       "      <th></th>\n",
       "      <th>InvoiceNo</th>\n",
       "      <th>StockCode</th>\n",
       "      <th>Description</th>\n",
       "      <th>Quantity</th>\n",
       "      <th>UnitPrice</th>\n",
       "      <th>CustomerID</th>\n",
       "      <th>Country</th>\n",
       "    </tr>\n",
       "    <tr>\n",
       "      <th>InvoiceDate</th>\n",
       "      <th></th>\n",
       "      <th></th>\n",
       "      <th></th>\n",
       "      <th></th>\n",
       "      <th></th>\n",
       "      <th></th>\n",
       "      <th></th>\n",
       "    </tr>\n",
       "  </thead>\n",
       "  <tbody>\n",
       "    <tr>\n",
       "      <th>2010-12-01 08:26:00</th>\n",
       "      <td>536365</td>\n",
       "      <td>85123A</td>\n",
       "      <td>WHITE HANGING HEART T-LIGHT HOLDER</td>\n",
       "      <td>6</td>\n",
       "      <td>2.55</td>\n",
       "      <td>17850.0</td>\n",
       "      <td>United Kingdom</td>\n",
       "    </tr>\n",
       "    <tr>\n",
       "      <th>2010-12-01 08:26:00</th>\n",
       "      <td>536365</td>\n",
       "      <td>71053</td>\n",
       "      <td>WHITE METAL LANTERN</td>\n",
       "      <td>6</td>\n",
       "      <td>3.39</td>\n",
       "      <td>17850.0</td>\n",
       "      <td>United Kingdom</td>\n",
       "    </tr>\n",
       "    <tr>\n",
       "      <th>2010-12-01 08:26:00</th>\n",
       "      <td>536365</td>\n",
       "      <td>84406B</td>\n",
       "      <td>CREAM CUPID HEARTS COAT HANGER</td>\n",
       "      <td>8</td>\n",
       "      <td>2.75</td>\n",
       "      <td>17850.0</td>\n",
       "      <td>United Kingdom</td>\n",
       "    </tr>\n",
       "    <tr>\n",
       "      <th>2010-12-01 08:26:00</th>\n",
       "      <td>536365</td>\n",
       "      <td>84029G</td>\n",
       "      <td>KNITTED UNION FLAG HOT WATER BOTTLE</td>\n",
       "      <td>6</td>\n",
       "      <td>3.39</td>\n",
       "      <td>17850.0</td>\n",
       "      <td>United Kingdom</td>\n",
       "    </tr>\n",
       "    <tr>\n",
       "      <th>2010-12-01 08:26:00</th>\n",
       "      <td>536365</td>\n",
       "      <td>84029E</td>\n",
       "      <td>RED WOOLLY HOTTIE WHITE HEART.</td>\n",
       "      <td>6</td>\n",
       "      <td>3.39</td>\n",
       "      <td>17850.0</td>\n",
       "      <td>United Kingdom</td>\n",
       "    </tr>\n",
       "  </tbody>\n",
       "</table>\n",
       "</div>"
      ],
      "text/plain": [
       "                    InvoiceNo StockCode                          Description  \\\n",
       "InvoiceDate                                                                    \n",
       "2010-12-01 08:26:00    536365    85123A   WHITE HANGING HEART T-LIGHT HOLDER   \n",
       "2010-12-01 08:26:00    536365     71053                  WHITE METAL LANTERN   \n",
       "2010-12-01 08:26:00    536365    84406B       CREAM CUPID HEARTS COAT HANGER   \n",
       "2010-12-01 08:26:00    536365    84029G  KNITTED UNION FLAG HOT WATER BOTTLE   \n",
       "2010-12-01 08:26:00    536365    84029E       RED WOOLLY HOTTIE WHITE HEART.   \n",
       "\n",
       "                     Quantity  UnitPrice  CustomerID         Country  \n",
       "InvoiceDate                                                           \n",
       "2010-12-01 08:26:00         6       2.55     17850.0  United Kingdom  \n",
       "2010-12-01 08:26:00         6       3.39     17850.0  United Kingdom  \n",
       "2010-12-01 08:26:00         8       2.75     17850.0  United Kingdom  \n",
       "2010-12-01 08:26:00         6       3.39     17850.0  United Kingdom  \n",
       "2010-12-01 08:26:00         6       3.39     17850.0  United Kingdom  "
      ]
     },
     "execution_count": 62,
     "metadata": {},
     "output_type": "execute_result"
    }
   ],
   "source": [
    "df.head()"
   ]
  },
  {
   "cell_type": "code",
   "execution_count": 63,
   "id": "2e82aa68",
   "metadata": {},
   "outputs": [
    {
     "data": {
      "text/html": [
       "<div>\n",
       "<style scoped>\n",
       "    .dataframe tbody tr th:only-of-type {\n",
       "        vertical-align: middle;\n",
       "    }\n",
       "\n",
       "    .dataframe tbody tr th {\n",
       "        vertical-align: top;\n",
       "    }\n",
       "\n",
       "    .dataframe thead th {\n",
       "        text-align: right;\n",
       "    }\n",
       "</style>\n",
       "<table border=\"1\" class=\"dataframe\">\n",
       "  <thead>\n",
       "    <tr style=\"text-align: right;\">\n",
       "      <th></th>\n",
       "      <th>Quantity</th>\n",
       "      <th>UnitPrice</th>\n",
       "      <th>CustomerID</th>\n",
       "    </tr>\n",
       "  </thead>\n",
       "  <tbody>\n",
       "    <tr>\n",
       "      <th>count</th>\n",
       "      <td>541909.000000</td>\n",
       "      <td>541909.000000</td>\n",
       "      <td>406829.000000</td>\n",
       "    </tr>\n",
       "    <tr>\n",
       "      <th>mean</th>\n",
       "      <td>9.552250</td>\n",
       "      <td>4.611114</td>\n",
       "      <td>15287.690570</td>\n",
       "    </tr>\n",
       "    <tr>\n",
       "      <th>std</th>\n",
       "      <td>218.081158</td>\n",
       "      <td>96.759853</td>\n",
       "      <td>1713.600303</td>\n",
       "    </tr>\n",
       "    <tr>\n",
       "      <th>min</th>\n",
       "      <td>-80995.000000</td>\n",
       "      <td>-11062.060000</td>\n",
       "      <td>12346.000000</td>\n",
       "    </tr>\n",
       "    <tr>\n",
       "      <th>25%</th>\n",
       "      <td>1.000000</td>\n",
       "      <td>1.250000</td>\n",
       "      <td>13953.000000</td>\n",
       "    </tr>\n",
       "    <tr>\n",
       "      <th>50%</th>\n",
       "      <td>3.000000</td>\n",
       "      <td>2.080000</td>\n",
       "      <td>15152.000000</td>\n",
       "    </tr>\n",
       "    <tr>\n",
       "      <th>75%</th>\n",
       "      <td>10.000000</td>\n",
       "      <td>4.130000</td>\n",
       "      <td>16791.000000</td>\n",
       "    </tr>\n",
       "    <tr>\n",
       "      <th>max</th>\n",
       "      <td>80995.000000</td>\n",
       "      <td>38970.000000</td>\n",
       "      <td>18287.000000</td>\n",
       "    </tr>\n",
       "  </tbody>\n",
       "</table>\n",
       "</div>"
      ],
      "text/plain": [
       "            Quantity      UnitPrice     CustomerID\n",
       "count  541909.000000  541909.000000  406829.000000\n",
       "mean        9.552250       4.611114   15287.690570\n",
       "std       218.081158      96.759853    1713.600303\n",
       "min    -80995.000000  -11062.060000   12346.000000\n",
       "25%         1.000000       1.250000   13953.000000\n",
       "50%         3.000000       2.080000   15152.000000\n",
       "75%        10.000000       4.130000   16791.000000\n",
       "max     80995.000000   38970.000000   18287.000000"
      ]
     },
     "execution_count": 63,
     "metadata": {},
     "output_type": "execute_result"
    }
   ],
   "source": [
    "df.describe()"
   ]
  },
  {
   "cell_type": "markdown",
   "id": "85248165",
   "metadata": {},
   "source": [
    "2. Select only the transactions that have occurred from 01/04/ 2011 and 09/12/2011 and\n",
    "create a dataset."
   ]
  },
  {
   "cell_type": "code",
   "execution_count": 64,
   "id": "87114701",
   "metadata": {},
   "outputs": [],
   "source": [
    "df_time = df[(df.index>='2011-04-01') & (df.index<='2011-12-09')]"
   ]
  },
  {
   "cell_type": "code",
   "execution_count": 65,
   "id": "eb72cb00",
   "metadata": {},
   "outputs": [
    {
     "data": {
      "text/plain": [
       "InvoiceNo          0\n",
       "StockCode          0\n",
       "Description      985\n",
       "Quantity           0\n",
       "UnitPrice          0\n",
       "CustomerID     88936\n",
       "Country            0\n",
       "dtype: int64"
      ]
     },
     "execution_count": 65,
     "metadata": {},
     "output_type": "execute_result"
    }
   ],
   "source": [
    "df_time.isnull().sum()"
   ]
  },
  {
   "cell_type": "code",
   "execution_count": 66,
   "id": "89c52155",
   "metadata": {},
   "outputs": [],
   "source": [
    "df_time = df_time[df_time['CustomerID'].notna()]"
   ]
  },
  {
   "cell_type": "code",
   "execution_count": 67,
   "id": "d142adc4",
   "metadata": {},
   "outputs": [],
   "source": [
    "df_time = df_time[~df_time.InvoiceNo.str.contains('C',na=False)]"
   ]
  },
  {
   "cell_type": "code",
   "execution_count": 68,
   "id": "fa702a1d",
   "metadata": {},
   "outputs": [
    {
     "data": {
      "text/plain": [
       "(3932, 7)"
      ]
     },
     "execution_count": 68,
     "metadata": {},
     "output_type": "execute_result"
    }
   ],
   "source": [
    "df_time[df_time.duplicated()].shape"
   ]
  },
  {
   "cell_type": "code",
   "execution_count": 69,
   "id": "83cda33b",
   "metadata": {},
   "outputs": [],
   "source": [
    "df_time = df_time.drop_duplicates(keep='first')"
   ]
  },
  {
   "cell_type": "code",
   "execution_count": 70,
   "id": "74e06dc4",
   "metadata": {},
   "outputs": [
    {
     "name": "stdout",
     "output_type": "stream",
     "text": [
      "0\n"
     ]
    }
   ],
   "source": [
    "print((df_time.Quantity<0).sum())"
   ]
  },
  {
   "cell_type": "code",
   "execution_count": 71,
   "id": "8e0b6bc6",
   "metadata": {},
   "outputs": [
    {
     "name": "stdout",
     "output_type": "stream",
     "text": [
      "0\n"
     ]
    }
   ],
   "source": [
    "print((df_time.UnitPrice<0).sum())"
   ]
  },
  {
   "cell_type": "markdown",
   "id": "9c76feb7",
   "metadata": {},
   "source": [
    "3. Calculate the RFM values for each customer (by customer id). RFM represents:\n",
    "\n",
    "a) R (Recency) − Recency should be calculated as the number of months before he\n",
    "or she has made a purchase from the online store. If he/she made a purchase in\n",
    "the month of December 2011, then the Recency should be 0. If purchase is made\n",
    "in November 2011 then Recency should be 1 and so on and so forth."
   ]
  },
  {
   "cell_type": "code",
   "execution_count": 72,
   "id": "d9b08998",
   "metadata": {},
   "outputs": [],
   "source": [
    "df_time['R'] = 12 - df_time.index.month\n"
   ]
  },
  {
   "cell_type": "code",
   "execution_count": 73,
   "id": "d7dd5b94",
   "metadata": {},
   "outputs": [
    {
     "data": {
      "text/plain": [
       "InvoiceDate\n",
       "2011-04-01 08:22:00    8\n",
       "2011-04-01 08:22:00    8\n",
       "2011-04-01 08:22:00    8\n",
       "2011-04-01 08:22:00    8\n",
       "2011-04-01 08:22:00    8\n",
       "                      ..\n",
       "2011-12-08 20:01:00    0\n",
       "2011-12-08 20:01:00    0\n",
       "2011-12-08 20:01:00    0\n",
       "2011-12-08 20:01:00    0\n",
       "2011-12-08 20:01:00    0\n",
       "Name: R, Length: 298878, dtype: int64"
      ]
     },
     "execution_count": 73,
     "metadata": {},
     "output_type": "execute_result"
    }
   ],
   "source": [
    "df_time['R'] "
   ]
  },
  {
   "cell_type": "markdown",
   "id": "6d8ac654",
   "metadata": {},
   "source": [
    "b)F (Frequency) − Number of invoices by the customer from 01/04/ 2011 and\n",
    "09/12/2011."
   ]
  },
  {
   "cell_type": "code",
   "execution_count": 74,
   "id": "9cc5156e",
   "metadata": {},
   "outputs": [],
   "source": [
    "df_time['F'] = 0"
   ]
  },
  {
   "cell_type": "code",
   "execution_count": 75,
   "id": "c541c025",
   "metadata": {},
   "outputs": [],
   "source": [
    "customer_ids = list(df_time['CustomerID'].unique())"
   ]
  },
  {
   "cell_type": "code",
   "execution_count": 76,
   "id": "b05fa2d2",
   "metadata": {},
   "outputs": [],
   "source": [
    "for id in customer_ids:\n",
    "  df_time.loc[df_time['CustomerID']==id, 'F'] += df_time.groupby(by='CustomerID').InvoiceNo.size()[id]"
   ]
  },
  {
   "cell_type": "code",
   "execution_count": 101,
   "id": "36e9af14",
   "metadata": {},
   "outputs": [
    {
     "data": {
      "text/plain": [
       "InvoiceDate\n",
       "2011-04-01 08:22:00      65\n",
       "2011-04-01 08:22:00      65\n",
       "2011-04-01 08:22:00      65\n",
       "2011-04-01 08:22:00      65\n",
       "2011-04-01 08:22:00      65\n",
       "                       ... \n",
       "2011-12-08 20:01:00    3430\n",
       "2011-12-08 20:01:00    3430\n",
       "2011-12-08 20:01:00    3430\n",
       "2011-12-08 20:01:00    3430\n",
       "2011-12-08 20:01:00    3430\n",
       "Name: F, Length: 298878, dtype: int64"
      ]
     },
     "execution_count": 101,
     "metadata": {},
     "output_type": "execute_result"
    }
   ],
   "source": [
    "df_time['F']"
   ]
  },
  {
   "cell_type": "markdown",
   "id": "1b606016",
   "metadata": {},
   "source": [
    "c)M (Monetary Value) − Total spend by the customer from 01/04/ 2011 and\n",
    "09/12/2011."
   ]
  },
  {
   "cell_type": "code",
   "execution_count": 77,
   "id": "43610e57",
   "metadata": {},
   "outputs": [],
   "source": [
    "df_time['Revenue'] = df_time.Quantity * df_time.UnitPrice"
   ]
  },
  {
   "cell_type": "code",
   "execution_count": 78,
   "id": "0fd653f0",
   "metadata": {},
   "outputs": [],
   "source": [
    "df_time['M'] = 0"
   ]
  },
  {
   "cell_type": "code",
   "execution_count": 79,
   "id": "cbc3f9e2",
   "metadata": {},
   "outputs": [],
   "source": [
    "for id in customer_ids:\n",
    "  df_time.loc[df_time['CustomerID']==id, 'M'] += df_time.groupby(by='CustomerID').Revenue.sum()[id]"
   ]
  },
  {
   "cell_type": "code",
   "execution_count": 102,
   "id": "17b2fbea",
   "metadata": {},
   "outputs": [
    {
     "data": {
      "text/plain": [
       "InvoiceDate\n",
       "2011-04-01 08:22:00     1317.16\n",
       "2011-04-01 08:22:00     1317.16\n",
       "2011-04-01 08:22:00     1317.16\n",
       "2011-04-01 08:22:00     1317.16\n",
       "2011-04-01 08:22:00     1317.16\n",
       "                         ...   \n",
       "2011-12-08 20:01:00    26810.00\n",
       "2011-12-08 20:01:00    26810.00\n",
       "2011-12-08 20:01:00    26810.00\n",
       "2011-12-08 20:01:00    26810.00\n",
       "2011-12-08 20:01:00    26810.00\n",
       "Name: M, Length: 298878, dtype: float64"
      ]
     },
     "execution_count": 102,
     "metadata": {},
     "output_type": "execute_result"
    }
   ],
   "source": [
    "df_time['M']"
   ]
  },
  {
   "cell_type": "code",
   "execution_count": 80,
   "id": "edfde93b",
   "metadata": {},
   "outputs": [],
   "source": [
    "df_rfm = pd.DataFrame(customer_ids, columns=['Customer ID'])"
   ]
  },
  {
   "cell_type": "code",
   "execution_count": 81,
   "id": "11bf59b1",
   "metadata": {},
   "outputs": [],
   "source": [
    "df_rfm['R'] = 0\n",
    "df_rfm['F'] = 0\n",
    "df_rfm['M'] = 0"
   ]
  },
  {
   "cell_type": "code",
   "execution_count": 82,
   "id": "f0aa42b3",
   "metadata": {},
   "outputs": [],
   "source": [
    "for id in customer_ids:\n",
    "    df_rfm.loc[df_rfm['Customer ID']==id, 'R'] += df_time.loc[df_time['CustomerID']==id, 'R'].values[0]\n",
    "    df_rfm.loc[df_rfm['Customer ID']==id, 'F'] += df_time.loc[df_time['CustomerID']==id, 'F'].values[0]\n",
    "    df_rfm.loc[df_rfm['Customer ID']==id, 'M'] += df_time.loc[df_time['CustomerID']==id, 'M'].values[0]"
   ]
  },
  {
   "cell_type": "code",
   "execution_count": 103,
   "id": "bc39898f",
   "metadata": {},
   "outputs": [
    {
     "data": {
      "text/html": [
       "<div>\n",
       "<style scoped>\n",
       "    .dataframe tbody tr th:only-of-type {\n",
       "        vertical-align: middle;\n",
       "    }\n",
       "\n",
       "    .dataframe tbody tr th {\n",
       "        vertical-align: top;\n",
       "    }\n",
       "\n",
       "    .dataframe thead th {\n",
       "        text-align: right;\n",
       "    }\n",
       "</style>\n",
       "<table border=\"1\" class=\"dataframe\">\n",
       "  <thead>\n",
       "    <tr style=\"text-align: right;\">\n",
       "      <th></th>\n",
       "      <th>Customer ID</th>\n",
       "      <th>R</th>\n",
       "      <th>F</th>\n",
       "      <th>M</th>\n",
       "      <th>labels</th>\n",
       "    </tr>\n",
       "  </thead>\n",
       "  <tbody>\n",
       "    <tr>\n",
       "      <th>0</th>\n",
       "      <td>18161.0</td>\n",
       "      <td>8</td>\n",
       "      <td>65</td>\n",
       "      <td>1317.16</td>\n",
       "      <td>0</td>\n",
       "    </tr>\n",
       "    <tr>\n",
       "      <th>1</th>\n",
       "      <td>14886.0</td>\n",
       "      <td>8</td>\n",
       "      <td>18</td>\n",
       "      <td>364.80</td>\n",
       "      <td>0</td>\n",
       "    </tr>\n",
       "    <tr>\n",
       "      <th>2</th>\n",
       "      <td>17613.0</td>\n",
       "      <td>8</td>\n",
       "      <td>217</td>\n",
       "      <td>3153.93</td>\n",
       "      <td>0</td>\n",
       "    </tr>\n",
       "    <tr>\n",
       "      <th>3</th>\n",
       "      <td>12523.0</td>\n",
       "      <td>8</td>\n",
       "      <td>83</td>\n",
       "      <td>1428.33</td>\n",
       "      <td>0</td>\n",
       "    </tr>\n",
       "    <tr>\n",
       "      <th>4</th>\n",
       "      <td>13694.0</td>\n",
       "      <td>8</td>\n",
       "      <td>368</td>\n",
       "      <td>46180.24</td>\n",
       "      <td>2</td>\n",
       "    </tr>\n",
       "    <tr>\n",
       "      <th>...</th>\n",
       "      <td>...</td>\n",
       "      <td>...</td>\n",
       "      <td>...</td>\n",
       "      <td>...</td>\n",
       "      <td>...</td>\n",
       "    </tr>\n",
       "    <tr>\n",
       "      <th>3844</th>\n",
       "      <td>17830.0</td>\n",
       "      <td>0</td>\n",
       "      <td>7</td>\n",
       "      <td>111.05</td>\n",
       "      <td>0</td>\n",
       "    </tr>\n",
       "    <tr>\n",
       "      <th>3845</th>\n",
       "      <td>13298.0</td>\n",
       "      <td>0</td>\n",
       "      <td>2</td>\n",
       "      <td>360.00</td>\n",
       "      <td>0</td>\n",
       "    </tr>\n",
       "    <tr>\n",
       "      <th>3846</th>\n",
       "      <td>16833.0</td>\n",
       "      <td>0</td>\n",
       "      <td>15</td>\n",
       "      <td>435.24</td>\n",
       "      <td>0</td>\n",
       "    </tr>\n",
       "    <tr>\n",
       "      <th>3847</th>\n",
       "      <td>14569.0</td>\n",
       "      <td>0</td>\n",
       "      <td>12</td>\n",
       "      <td>227.39</td>\n",
       "      <td>0</td>\n",
       "    </tr>\n",
       "    <tr>\n",
       "      <th>3848</th>\n",
       "      <td>13077.0</td>\n",
       "      <td>0</td>\n",
       "      <td>49</td>\n",
       "      <td>151.83</td>\n",
       "      <td>0</td>\n",
       "    </tr>\n",
       "  </tbody>\n",
       "</table>\n",
       "<p>3849 rows × 5 columns</p>\n",
       "</div>"
      ],
      "text/plain": [
       "      Customer ID  R    F         M  labels\n",
       "0         18161.0  8   65   1317.16       0\n",
       "1         14886.0  8   18    364.80       0\n",
       "2         17613.0  8  217   3153.93       0\n",
       "3         12523.0  8   83   1428.33       0\n",
       "4         13694.0  8  368  46180.24       2\n",
       "...           ... ..  ...       ...     ...\n",
       "3844      17830.0  0    7    111.05       0\n",
       "3845      13298.0  0    2    360.00       0\n",
       "3846      16833.0  0   15    435.24       0\n",
       "3847      14569.0  0   12    227.39       0\n",
       "3848      13077.0  0   49    151.83       0\n",
       "\n",
       "[3849 rows x 5 columns]"
      ]
     },
     "execution_count": 103,
     "metadata": {},
     "output_type": "execute_result"
    }
   ],
   "source": [
    "df_rfm "
   ]
  },
  {
   "cell_type": "markdown",
   "id": "cbca542d",
   "metadata": {},
   "source": [
    "5. Create the customer segments with K-means algorithm by using number of clusters is\n",
    "suggested by elbow method."
   ]
  },
  {
   "cell_type": "code",
   "execution_count": 83,
   "id": "0cd8d01b",
   "metadata": {},
   "outputs": [],
   "source": [
    "from sklearn.cluster import KMeans"
   ]
  },
  {
   "cell_type": "code",
   "execution_count": 84,
   "id": "e5587950",
   "metadata": {},
   "outputs": [],
   "source": [
    "wcss = []"
   ]
  },
  {
   "cell_type": "code",
   "execution_count": 85,
   "id": "da2c9b47",
   "metadata": {},
   "outputs": [],
   "source": [
    "for k in range(0, 10):\n",
    "  kmeans = KMeans(n_clusters=k+1, random_state=0).fit(df_rfm[['R', 'F', 'M']])\n",
    "  wcss.append(kmeans.inertia_)\n"
   ]
  },
  {
   "cell_type": "code",
   "execution_count": 86,
   "id": "14299971",
   "metadata": {},
   "outputs": [
    {
     "data": {
      "image/png": "[encoded data removed]",
      "text/plain": [
       "<Figure size 1080x576 with 1 Axes>"
      ]
     },
     "metadata": {
      "needs_background": "light"
     },
     "output_type": "display_data"
    }
   ],
   "source": [
    "plt.figure(figsize=(15,8))\n",
    "ax = sns.pointplot(x=list(range(1, 11)), y=wcss)\n",
    "ax.set_title('K-Means Clustering\\nNumber of Clusters vs Within Cluster Sum of Squares')\n",
    "ax.set_xlabel('Number of Clusters')\n",
    "ax.set_ylabel('Within Cluster Sum of Squares')\n",
    "plt.show()"
   ]
  },
  {
   "cell_type": "markdown",
   "id": "f6522394",
   "metadata": {},
   "source": [
    "6. Plot the clusters in a scatter plot and mark each segment differently using lmplot."
   ]
  },
  {
   "cell_type": "code",
   "execution_count": 87,
   "id": "387e1ec4",
   "metadata": {},
   "outputs": [],
   "source": [
    "kmeans = KMeans(n_clusters=3, random_state=0).fit(df_rfm[['R', 'F', 'M']])\n"
   ]
  },
  {
   "cell_type": "code",
   "execution_count": 88,
   "id": "0b0510b0",
   "metadata": {},
   "outputs": [],
   "source": [
    "df_rfm['labels'] = kmeans.labels_"
   ]
  },
  {
   "cell_type": "code",
   "execution_count": 89,
   "id": "4cd90912",
   "metadata": {},
   "outputs": [
    {
     "data": {
      "text/plain": [
       "<seaborn.axisgrid.FacetGrid at 0x1591e68deb0>"
      ]
     },
     "execution_count": 89,
     "metadata": {},
     "output_type": "execute_result"
    },
    {
     "data": {
      "image/png": "[encoded data removed]",
      "text/plain": [
       "<Figure size 762.375x1800 with 9 Axes>"
      ]
     },
     "metadata": {
      "needs_background": "light"
     },
     "output_type": "display_data"
    }
   ],
   "source": [
    "sns.lmplot(x='F', y='M', col='R', hue='labels', data=df_rfm, col_wrap=2, fit_reg=False, markers=['o', '^', 'D'])\n"
   ]
  },
  {
   "cell_type": "markdown",
   "id": "18b62fd3",
   "metadata": {},
   "source": [
    "7. Print the cluster centers of each customer segment and explain them intuitively."
   ]
  },
  {
   "cell_type": "code",
   "execution_count": 90,
   "id": "326c6e73",
   "metadata": {},
   "outputs": [
    {
     "data": {
      "text/plain": [
       "array([[5.00209644e+00, 6.99821803e+01, 1.22842223e+03],\n",
       "       [8.00000000e+00, 1.72525000e+03, 1.73486923e+05],\n",
       "       [7.68965517e+00, 8.59482759e+02, 3.93992303e+04]])"
      ]
     },
     "execution_count": 90,
     "metadata": {},
     "output_type": "execute_result"
    }
   ],
   "source": [
    "kmeans.cluster_centers_"
   ]
  },
  {
   "cell_type": "markdown",
   "id": "0d56c109",
   "metadata": {},
   "source": [
    "The cluster centre of cluster:\n",
    "\n",
    "0 has a value of 4.38 for R, 68.6 for F, and 1212 for M (customers with Low Recency, Low Frequency and Low Monetary Value) - customers who are of little value.\n",
    "\n",
    "1 has a value of 4.00 for R, 1296 for F, and 168158 for M (customers with Low Recency, High Frquency and High Monetary Value) - loyal customers who should be entered in the Loyalty Program and given special benefits.\n",
    "\n",
    "2 has a value of 5.25 for R, 865 for F, and 39738 for M (customers with Low Recency, Medium Frequency, and Medium Monetary Value) - occasional shoppers - should be sent more promos and offers"
   ]
  },
  {
   "cell_type": "markdown",
   "id": "2d171fdb",
   "metadata": {},
   "source": [
    "8. Create the customer segments with Agglomerative algorithm by using number of\n",
    "clusters is suggested by elbow method.\n",
    "from sklearn.cluster import AgglomerativeClustering"
   ]
  },
  {
   "cell_type": "code",
   "execution_count": 91,
   "id": "d5a5fa4f",
   "metadata": {},
   "outputs": [],
   "source": [
    "from sklearn.cluster import AgglomerativeClustering"
   ]
  },
  {
   "cell_type": "code",
   "execution_count": 92,
   "id": "a402084d",
   "metadata": {},
   "outputs": [],
   "source": [
    "agglo = AgglomerativeClustering(n_clusters=3, compute_distances=True).fit(df_rfm[['R','F','M']])"
   ]
  },
  {
   "cell_type": "markdown",
   "id": "4e25797a",
   "metadata": {},
   "source": [
    "9. Visualize the clusters using the dendrogram."
   ]
  },
  {
   "cell_type": "code",
   "execution_count": 93,
   "id": "2674a67f",
   "metadata": {},
   "outputs": [],
   "source": [
    "from scipy.cluster.hierarchy import dendrogram"
   ]
  },
  {
   "cell_type": "code",
   "execution_count": 94,
   "id": "481ff48b",
   "metadata": {},
   "outputs": [
    {
     "data": {
      "image/png": "[encoded data removed]",
      "text/plain": [
       "<Figure size 1080x576 with 1 Axes>"
      ]
     },
     "metadata": {
      "needs_background": "light"
     },
     "output_type": "display_data"
    }
   ],
   "source": [
    "def plot_dendrogram(agglo, **kwargs):\n",
    "    \n",
    "    counts = np.zeros(agglo.children_.shape[0])\n",
    "    n_samples = len(agglo.labels_)\n",
    "    for i, merge in enumerate(agglo.children_):\n",
    "        current_count = 0\n",
    "        for child_idx in merge:\n",
    "            if child_idx < n_samples:\n",
    "                current_count += 1\n",
    "            else:\n",
    "                current_count += counts[child_idx - n_samples]\n",
    "        counts[i] = current_count\n",
    "\n",
    "    linkage_matrix = np.column_stack([agglo.children_, agglo.distances_, counts]).astype(float)\n",
    "\n",
    "    dendrogram(linkage_matrix, **kwargs)\n",
    "    \n",
    "\n",
    "plt.figure(figsize=(15,8))\n",
    "plt.title('Hierarchical Clustering Dendrogram')\n",
    "plot_dendrogram(agglo, truncate_mode='level', p=3)\n",
    "plt.show()"
   ]
  },
  {
   "cell_type": "markdown",
   "id": "86e40438",
   "metadata": {},
   "source": [
    "10. Compare the clusters obtained using KMeans vs. Agglomeration"
   ]
  },
  {
   "cell_type": "code",
   "execution_count": 95,
   "id": "a2bd2836",
   "metadata": {},
   "outputs": [],
   "source": [
    "labels_kmeans = list(kmeans.labels_)"
   ]
  },
  {
   "cell_type": "code",
   "execution_count": 99,
   "id": "14180fe0",
   "metadata": {},
   "outputs": [],
   "source": [
    "labels_agglo = list(agglo.labels_)"
   ]
  },
  {
   "cell_type": "code",
   "execution_count": 97,
   "id": "d1f41cfd",
   "metadata": {},
   "outputs": [
    {
     "name": "stdout",
     "output_type": "stream",
     "text": [
      "Cluster 0 - KMeans:  3816\n",
      "Cluster 1 - KMeans:  4\n",
      "Cluster 2 - KMeans:  29\n",
      "\n"
     ]
    }
   ],
   "source": [
    "print('Cluster 0 - KMeans: ', labels_kmeans.count(0))\n",
    "print('Cluster 1 - KMeans: ', labels_kmeans.count(1))\n",
    "print('Cluster 2 - KMeans: ', labels_kmeans.count(2))\n",
    "\n",
    "print()"
   ]
  },
  {
   "cell_type": "code",
   "execution_count": 100,
   "id": "8102f1ea",
   "metadata": {},
   "outputs": [
    {
     "name": "stdout",
     "output_type": "stream",
     "text": [
      "Cluster 0 - Agglomerative:  33\n",
      "Cluster 1 - Agglomerative:  3\n",
      "Cluster 2 - Agglomerative:  3813\n"
     ]
    }
   ],
   "source": [
    "print('Cluster 0 - Agglomerative: ', labels_agglo.count(0))\n",
    "print('Cluster 1 - Agglomerative: ', labels_agglo.count(1))\n",
    "print('Cluster 2 - Agglomerative: ', labels_agglo.count(2))"
   ]
  },
  {
   "cell_type": "code",
   "execution_count": null,
   "id": "06c70f0d",
   "metadata": {},
   "outputs": [],
   "source": []
  }
 ],
 "metadata": {
  "kernelspec": {
   "display_name": "Python 3 (ipykernel)",
   "language": "python",
   "name": "python3"
  },
  "language_info": {
   "codemirror_mode": {
    "name": "ipython",
    "version": 3
   },
   "file_extension": ".py",
   "mimetype": "text/x-python",
   "name": "python",
   "nbconvert_exporter": "python",
   "pygments_lexer": "ipython3",
   "version": "3.9.12"
  }
 },
 "nbformat": 4,
 "nbformat_minor": 5
}
