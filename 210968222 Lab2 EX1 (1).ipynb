{
 "cells": [
  {
   "cell_type": "code",
   "execution_count": 58,
   "id": "b7fd14f5",
   "metadata": {},
   "outputs": [
    {
     "name": "stdout",
     "output_type": "stream",
     "text": [
      "  Roll no.    Name Gender  Marks 1  Marks 2  Marks 3\n",
      "0        1    John      M       61       83       97\n",
      "1        2   Chris      M       68       96       99\n",
      "2        3  Amelia      F       98       39       76\n",
      "3        4   Kevin      M       86       48       95\n",
      "4        5  Olivia      F       19      100       54\n"
     ]
    }
   ],
   "source": [
    "import pandas as pd\n",
    "\n",
    "data = {'Roll no.':  ['1', '2','3','4','5'],\n",
    "        'Name': ['John', 'Chris','Amelia','Kevin', 'Olivia',],\n",
    "        'Gender': ['M', 'M','F','M', 'F',],\n",
    "        'Marks 1': [61,68,98,86,19,],\n",
    "        'Marks 2': [83, 96,39,48, 100,],\n",
    "        'Marks 3': [97,99,76,95,54,],\n",
    "                                          \n",
    "        }\n",
    "\n",
    "df = pd.DataFrame(data)\n",
    "\n",
    "print (df)"
   ]
  },
  {
   "cell_type": "code",
   "execution_count": 59,
   "id": "7dc708b3",
   "metadata": {},
   "outputs": [
    {
     "data": {
      "text/html": [
       "<div>\n",
       "<style scoped>\n",
       "    .dataframe tbody tr th:only-of-type {\n",
       "        vertical-align: middle;\n",
       "    }\n",
       "\n",
       "    .dataframe tbody tr th {\n",
       "        vertical-align: top;\n",
       "    }\n",
       "\n",
       "    .dataframe thead th {\n",
       "        text-align: right;\n",
       "    }\n",
       "</style>\n",
       "<table border=\"1\" class=\"dataframe\">\n",
       "  <thead>\n",
       "    <tr style=\"text-align: right;\">\n",
       "      <th></th>\n",
       "      <th>Roll no.</th>\n",
       "      <th>Name</th>\n",
       "      <th>Gender</th>\n",
       "      <th>Marks 1</th>\n",
       "      <th>Marks 2</th>\n",
       "      <th>Marks 3</th>\n",
       "      <th>TotalMarks</th>\n",
       "    </tr>\n",
       "  </thead>\n",
       "  <tbody>\n",
       "    <tr>\n",
       "      <th>0</th>\n",
       "      <td>1</td>\n",
       "      <td>John</td>\n",
       "      <td>M</td>\n",
       "      <td>61</td>\n",
       "      <td>83</td>\n",
       "      <td>97</td>\n",
       "      <td>241</td>\n",
       "    </tr>\n",
       "    <tr>\n",
       "      <th>1</th>\n",
       "      <td>2</td>\n",
       "      <td>Chris</td>\n",
       "      <td>M</td>\n",
       "      <td>68</td>\n",
       "      <td>96</td>\n",
       "      <td>99</td>\n",
       "      <td>263</td>\n",
       "    </tr>\n",
       "    <tr>\n",
       "      <th>2</th>\n",
       "      <td>3</td>\n",
       "      <td>Amelia</td>\n",
       "      <td>F</td>\n",
       "      <td>98</td>\n",
       "      <td>39</td>\n",
       "      <td>76</td>\n",
       "      <td>213</td>\n",
       "    </tr>\n",
       "    <tr>\n",
       "      <th>3</th>\n",
       "      <td>4</td>\n",
       "      <td>Kevin</td>\n",
       "      <td>M</td>\n",
       "      <td>86</td>\n",
       "      <td>48</td>\n",
       "      <td>95</td>\n",
       "      <td>229</td>\n",
       "    </tr>\n",
       "    <tr>\n",
       "      <th>4</th>\n",
       "      <td>5</td>\n",
       "      <td>Olivia</td>\n",
       "      <td>F</td>\n",
       "      <td>19</td>\n",
       "      <td>100</td>\n",
       "      <td>54</td>\n",
       "      <td>173</td>\n",
       "    </tr>\n",
       "  </tbody>\n",
       "</table>\n",
       "</div>"
      ],
      "text/plain": [
       "  Roll no.    Name Gender  Marks 1  Marks 2  Marks 3  TotalMarks\n",
       "0        1    John      M       61       83       97         241\n",
       "1        2   Chris      M       68       96       99         263\n",
       "2        3  Amelia      F       98       39       76         213\n",
       "3        4   Kevin      M       86       48       95         229\n",
       "4        5  Olivia      F       19      100       54         173"
      ]
     },
     "execution_count": 59,
     "metadata": {},
     "output_type": "execute_result"
    }
   ],
   "source": [
    "df[\"TotalMarks\"]=df[\"Marks 1\"] + df[\"Marks 2\"]+ df[\"Marks 3\"]\n",
    "df"
   ]
  },
  {
   "cell_type": "code",
   "execution_count": 60,
   "id": "010a164a",
   "metadata": {},
   "outputs": [
    {
     "name": "stdout",
     "output_type": "stream",
     "text": [
      "Roll no.           1\n",
      "Name          Amelia\n",
      "Gender             F\n",
      "Marks 1           19\n",
      "Marks 2           39\n",
      "Marks 3           54\n",
      "TotalMarks       173\n",
      "dtype: object\n"
     ]
    }
   ],
   "source": [
    "minvalue = df.min()\n",
    "print(minvalue)"
   ]
  },
  {
   "cell_type": "code",
   "execution_count": 61,
   "id": "bacd6eca",
   "metadata": {},
   "outputs": [
    {
     "name": "stdout",
     "output_type": "stream",
     "text": [
      "Roll no.           5\n",
      "Name          Olivia\n",
      "Gender             M\n",
      "Marks 1           98\n",
      "Marks 2          100\n",
      "Marks 3           99\n",
      "TotalMarks       263\n",
      "dtype: object\n"
     ]
    }
   ],
   "source": [
    "maxvalue = df.max()\n",
    "print(maxvalue)\n"
   ]
  },
  {
   "cell_type": "code",
   "execution_count": 62,
   "id": "b8279de1",
   "metadata": {},
   "outputs": [
    {
     "data": {
      "text/plain": [
       "84.2"
      ]
     },
     "execution_count": 62,
     "metadata": {},
     "output_type": "execute_result"
    }
   ],
   "source": [
    "df[\"Marks 3\"].mean()\n"
   ]
  },
  {
   "cell_type": "code",
   "execution_count": 63,
   "id": "01f173ad",
   "metadata": {},
   "outputs": [
    {
     "data": {
      "text/plain": [
       "223.8"
      ]
     },
     "execution_count": 63,
     "metadata": {},
     "output_type": "execute_result"
    }
   ],
   "source": [
    "import numpy as np\n",
    "np.mean(df['Marks 1']+df['Marks 2']+df['Marks 3'])\n"
   ]
  },
  {
   "cell_type": "code",
   "execution_count": 64,
   "id": "3a8067d0",
   "metadata": {},
   "outputs": [
    {
     "data": {
      "text/html": [
       "<div>\n",
       "<style scoped>\n",
       "    .dataframe tbody tr th:only-of-type {\n",
       "        vertical-align: middle;\n",
       "    }\n",
       "\n",
       "    .dataframe tbody tr th {\n",
       "        vertical-align: top;\n",
       "    }\n",
       "\n",
       "    .dataframe thead th {\n",
       "        text-align: right;\n",
       "    }\n",
       "</style>\n",
       "<table border=\"1\" class=\"dataframe\">\n",
       "  <thead>\n",
       "    <tr style=\"text-align: right;\">\n",
       "      <th></th>\n",
       "      <th>Roll no.</th>\n",
       "      <th>Name</th>\n",
       "      <th>Gender</th>\n",
       "      <th>Marks 1</th>\n",
       "      <th>Marks 2</th>\n",
       "      <th>Marks 3</th>\n",
       "      <th>TotalMarks</th>\n",
       "      <th>Average</th>\n",
       "    </tr>\n",
       "  </thead>\n",
       "  <tbody>\n",
       "    <tr>\n",
       "      <th>0</th>\n",
       "      <td>1</td>\n",
       "      <td>John</td>\n",
       "      <td>M</td>\n",
       "      <td>61</td>\n",
       "      <td>83</td>\n",
       "      <td>97</td>\n",
       "      <td>241</td>\n",
       "      <td>80.333333</td>\n",
       "    </tr>\n",
       "    <tr>\n",
       "      <th>1</th>\n",
       "      <td>2</td>\n",
       "      <td>Chris</td>\n",
       "      <td>M</td>\n",
       "      <td>68</td>\n",
       "      <td>96</td>\n",
       "      <td>99</td>\n",
       "      <td>263</td>\n",
       "      <td>87.666667</td>\n",
       "    </tr>\n",
       "    <tr>\n",
       "      <th>2</th>\n",
       "      <td>3</td>\n",
       "      <td>Amelia</td>\n",
       "      <td>F</td>\n",
       "      <td>98</td>\n",
       "      <td>39</td>\n",
       "      <td>76</td>\n",
       "      <td>213</td>\n",
       "      <td>71.000000</td>\n",
       "    </tr>\n",
       "    <tr>\n",
       "      <th>3</th>\n",
       "      <td>4</td>\n",
       "      <td>Kevin</td>\n",
       "      <td>M</td>\n",
       "      <td>86</td>\n",
       "      <td>48</td>\n",
       "      <td>95</td>\n",
       "      <td>229</td>\n",
       "      <td>76.333333</td>\n",
       "    </tr>\n",
       "    <tr>\n",
       "      <th>4</th>\n",
       "      <td>5</td>\n",
       "      <td>Olivia</td>\n",
       "      <td>F</td>\n",
       "      <td>19</td>\n",
       "      <td>100</td>\n",
       "      <td>54</td>\n",
       "      <td>173</td>\n",
       "      <td>57.666667</td>\n",
       "    </tr>\n",
       "  </tbody>\n",
       "</table>\n",
       "</div>"
      ],
      "text/plain": [
       "  Roll no.    Name Gender  Marks 1  Marks 2  Marks 3  TotalMarks    Average\n",
       "0        1    John      M       61       83       97         241  80.333333\n",
       "1        2   Chris      M       68       96       99         263  87.666667\n",
       "2        3  Amelia      F       98       39       76         213  71.000000\n",
       "3        4   Kevin      M       86       48       95         229  76.333333\n",
       "4        5  Olivia      F       19      100       54         173  57.666667"
      ]
     },
     "execution_count": 64,
     "metadata": {},
     "output_type": "execute_result"
    }
   ],
   "source": [
    "df[\"Average\"]=df[\"TotalMarks\"]/3\n",
    "df"
   ]
  },
  {
   "cell_type": "code",
   "execution_count": 65,
   "id": "87e3337e",
   "metadata": {},
   "outputs": [
    {
     "data": {
      "text/plain": [
       "1    Chris\n",
       "Name: Name, dtype: object"
      ]
     },
     "execution_count": 65,
     "metadata": {},
     "output_type": "execute_result"
    }
   ],
   "source": [
    "df.loc[df[\"Average\"]==df[\"Average\"].max()].Name"
   ]
  },
  {
   "cell_type": "code",
   "execution_count": 66,
   "id": "0875b997",
   "metadata": {},
   "outputs": [
    {
     "data": {
      "text/html": [
       "<div>\n",
       "<style scoped>\n",
       "    .dataframe tbody tr th:only-of-type {\n",
       "        vertical-align: middle;\n",
       "    }\n",
       "\n",
       "    .dataframe tbody tr th {\n",
       "        vertical-align: top;\n",
       "    }\n",
       "\n",
       "    .dataframe thead th {\n",
       "        text-align: right;\n",
       "    }\n",
       "</style>\n",
       "<table border=\"1\" class=\"dataframe\">\n",
       "  <thead>\n",
       "    <tr style=\"text-align: right;\">\n",
       "      <th></th>\n",
       "      <th>Roll no.</th>\n",
       "      <th>Name</th>\n",
       "      <th>Gender</th>\n",
       "      <th>Marks 1</th>\n",
       "      <th>Marks 2</th>\n",
       "      <th>Marks 3</th>\n",
       "      <th>TotalMarks</th>\n",
       "      <th>Average</th>\n",
       "    </tr>\n",
       "  </thead>\n",
       "  <tbody>\n",
       "    <tr>\n",
       "      <th>2</th>\n",
       "      <td>3</td>\n",
       "      <td>Amelia</td>\n",
       "      <td>F</td>\n",
       "      <td>98</td>\n",
       "      <td>39</td>\n",
       "      <td>76</td>\n",
       "      <td>213</td>\n",
       "      <td>71.0</td>\n",
       "    </tr>\n",
       "  </tbody>\n",
       "</table>\n",
       "</div>"
      ],
      "text/plain": [
       "  Roll no.    Name Gender  Marks 1  Marks 2  Marks 3  TotalMarks  Average\n",
       "2        3  Amelia      F       98       39       76         213     71.0"
      ]
     },
     "execution_count": 66,
     "metadata": {},
     "output_type": "execute_result"
    }
   ],
   "source": [
    "df = df[df[\"Marks 2\"]<40]\n",
    "df"
   ]
  },
  {
   "cell_type": "code",
   "execution_count": null,
   "id": "f5e6d2d8",
   "metadata": {},
   "outputs": [],
   "source": []
  },
  {
   "cell_type": "code",
   "execution_count": null,
   "id": "298d0473",
   "metadata": {},
   "outputs": [],
   "source": []
  },
  {
   "cell_type": "code",
   "execution_count": null,
   "id": "fc32f96f",
   "metadata": {},
   "outputs": [],
   "source": []
  },
  {
   "cell_type": "code",
   "execution_count": null,
   "id": "c7a29064",
   "metadata": {},
   "outputs": [],
   "source": []
  },
  {
   "cell_type": "code",
   "execution_count": null,
   "id": "56ae3eb3",
   "metadata": {},
   "outputs": [],
   "source": []
  },
  {
   "cell_type": "code",
   "execution_count": null,
   "id": "f7a96d6b",
   "metadata": {},
   "outputs": [],
   "source": []
  }
 ],
 "metadata": {
  "kernelspec": {
   "display_name": "Python 3 (ipykernel)",
   "language": "python",
   "name": "python3"
  },
  "language_info": {
   "codemirror_mode": {
    "name": "ipython",
    "version": 3
   },
   "file_extension": ".py",
   "mimetype": "text/x-python",
   "name": "python",
   "nbconvert_exporter": "python",
   "pygments_lexer": "ipython3",
   "version": "3.9.12"
  }
 },
 "nbformat": 4,
 "nbformat_minor": 5
}
