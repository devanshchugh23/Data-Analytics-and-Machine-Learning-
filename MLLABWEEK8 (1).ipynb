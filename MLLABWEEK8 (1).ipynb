{
 "cells": [
  {
   "cell_type": "code",
   "execution_count": 1,
   "id": "5c2de6c4",
   "metadata": {},
   "outputs": [],
   "source": [
    "import numpy as np\n",
    "import pandas as pd\n",
    "from sklearn.model_selection import train_test_split\n",
    "from sklearn import preprocessing\n",
    "from sklearn.tree import DecisionTreeClassifier\n",
    "from sklearn.naive_bayes import GaussianNB\n",
    "from sklearn.svm import SVC\n",
    "from sklearn.ensemble import\\\n",
    "RandomForestClassifier, BaggingClassifier, AdaBoostClassifier,\\\n",
    "GradientBoostingClassifier,HistGradientBoostingClassifier  #VotingClassifier"
   ]
  },
  {
   "cell_type": "code",
   "execution_count": 2,
   "id": "5889e71d",
   "metadata": {},
   "outputs": [],
   "source": [
    "def ensemble(X,Y):\n",
    "    for i in range(1,5):\n",
    "        x_train, x_test, y_train, y_test = train_test_split(X, Y, test_size = i/10, random_state = 42)\n",
    "        #Decision Tree\n",
    "        '''\n",
    "        print('testsize:',i/10)\n",
    "        dt = DecisionTreeClassifier()\n",
    "        dt.fit(x_train, y_train)\n",
    "        print('DECISION TREE:')\n",
    "        print(dt.score(x_test,y_test))\n",
    "        print('overfitting:',dt.score(x_train,y_train)) #overfit\n",
    "        '''\n",
    "        print('RANDOM FOREST CLASSIFIER:')\n",
    "        rfc1 = RandomForestClassifier(n_estimators = 10)\n",
    "        rfc1.fit(x_train, y_train)\n",
    "        print(rfc1.score(x_test, y_test))\n",
    "        \n",
    "        print('BAGGING CLASSIFIER:')\n",
    "        bg = BaggingClassifier(SVC(), max_samples = 0.5, max_features = 1.0, n_estimators = 20)\n",
    "        bg.fit(x_train, y_train)\n",
    "        print(bg.score(x_test, y_test))\n",
    "\n",
    "        print('ADABOOST CLASSIFIER:')\n",
    "        AdaBoost = AdaBoostClassifier(base_estimator = GaussianNB(), n_estimators = 10, learning_rate = 1)\n",
    "        AdaBoost.fit(x_train, y_train)\n",
    "        print(AdaBoost.score(x_test, y_test))\n",
    "\n",
    "        print('GRADIENT BOOSTING CLASSIFIER:')\n",
    "        gbc= GradientBoostingClassifier(n_estimators=100, learning_rate=1.0,max_depth=1, random_state=0)\n",
    "        gbc.fit(x_train,y_train)\n",
    "        print(gbc.score(x_test,y_test))"
   ]
  },
  {
   "cell_type": "code",
   "execution_count": 3,
   "id": "53d02bb9",
   "metadata": {},
   "outputs": [
    {
     "name": "stdout",
     "output_type": "stream",
     "text": [
      "RANDOM FOREST CLASSIFIER:\n",
      "1.0\n",
      "BAGGING CLASSIFIER:\n",
      "1.0\n",
      "ADABOOST CLASSIFIER:\n",
      "0.9333333333333333\n",
      "GRADIENT BOOSTING CLASSIFIER:\n",
      "0.9333333333333333\n",
      "RANDOM FOREST CLASSIFIER:\n",
      "1.0\n",
      "BAGGING CLASSIFIER:\n",
      "1.0\n",
      "ADABOOST CLASSIFIER:\n",
      "0.8\n",
      "GRADIENT BOOSTING CLASSIFIER:\n",
      "0.9666666666666667\n",
      "RANDOM FOREST CLASSIFIER:\n",
      "1.0\n",
      "BAGGING CLASSIFIER:\n",
      "1.0\n",
      "ADABOOST CLASSIFIER:\n",
      "0.7555555555555555\n",
      "GRADIENT BOOSTING CLASSIFIER:\n",
      "0.9555555555555556\n",
      "RANDOM FOREST CLASSIFIER:\n",
      "0.9833333333333333\n",
      "BAGGING CLASSIFIER:\n",
      "1.0\n",
      "ADABOOST CLASSIFIER:\n",
      "0.9833333333333333\n",
      "GRADIENT BOOSTING CLASSIFIER:\n",
      "0.9833333333333333\n"
     ]
    }
   ],
   "source": [
    "df=pd.read_csv('iris.csv')\n",
    "df\n",
    "X=df.iloc[:,1:-1]\n",
    "Y=df.iloc[:,-1]\n",
    "ensemble(X,Y)"
   ]
  },
  {
   "cell_type": "code",
   "execution_count": 4,
   "id": "b39a1791",
   "metadata": {},
   "outputs": [
    {
     "name": "stdout",
     "output_type": "stream",
     "text": [
      "<class 'pandas.core.frame.DataFrame'>\n",
      "RangeIndex: 4177 entries, 0 to 4176\n",
      "Data columns (total 9 columns):\n",
      " #   Column          Non-Null Count  Dtype  \n",
      "---  ------          --------------  -----  \n",
      " 0   Sex             4177 non-null   object \n",
      " 1   Length          4177 non-null   float64\n",
      " 2   Diameter        4177 non-null   float64\n",
      " 3   Height          4177 non-null   float64\n",
      " 4   Whole weight    4177 non-null   float64\n",
      " 5   Shucked weight  4177 non-null   float64\n",
      " 6   Viscera weight  4177 non-null   float64\n",
      " 7   Shell weight    4177 non-null   float64\n",
      " 8   Rings           4177 non-null   int64  \n",
      "dtypes: float64(7), int64(1), object(1)\n",
      "memory usage: 293.8+ KB\n"
     ]
    }
   ],
   "source": [
    "df=pd.read_csv('abalone.csv')\n",
    "df.info()"
   ]
  },
  {
   "cell_type": "code",
   "execution_count": 5,
   "id": "46176069",
   "metadata": {},
   "outputs": [
    {
     "name": "stdout",
     "output_type": "stream",
     "text": [
      "RANDOM FOREST CLASSIFIER:\n",
      "0.22966507177033493\n",
      "BAGGING CLASSIFIER:\n",
      "0.17464114832535885\n",
      "ADABOOST CLASSIFIER:\n",
      "0.11722488038277512\n",
      "GRADIENT BOOSTING CLASSIFIER:\n",
      "0.014354066985645933\n",
      "RANDOM FOREST CLASSIFIER:\n",
      "0.21889952153110048\n",
      "BAGGING CLASSIFIER:\n",
      "0.05502392344497608\n",
      "ADABOOST CLASSIFIER:\n",
      "0.1638755980861244\n",
      "GRADIENT BOOSTING CLASSIFIER:\n",
      "0.039473684210526314\n",
      "RANDOM FOREST CLASSIFIER:\n",
      "0.22966507177033493\n",
      "BAGGING CLASSIFIER:\n",
      "0.06140350877192982\n",
      "ADABOOST CLASSIFIER:\n",
      "0.08452950558213716\n",
      "GRADIENT BOOSTING CLASSIFIER:\n",
      "0.019936204146730464\n",
      "RANDOM FOREST CLASSIFIER:\n",
      "0.24057450628366248\n",
      "BAGGING CLASSIFIER:\n",
      "0.0819868342309994\n",
      "ADABOOST CLASSIFIER:\n",
      "0.16576900059844404\n",
      "GRADIENT BOOSTING CLASSIFIER:\n",
      "0.006582884500299222\n"
     ]
    }
   ],
   "source": [
    "df=pd.read_csv('abalone.csv')\n",
    "df\n",
    "X=df.iloc[:,1:-1]\n",
    "Y=df.iloc[:,-1]\n",
    "ensemble(X,Y)"
   ]
  },
  {
   "cell_type": "code",
   "execution_count": 6,
   "id": "565626a6",
   "metadata": {},
   "outputs": [
    {
     "name": "stdout",
     "output_type": "stream",
     "text": [
      "RANDOM FOREST CLASSIFIER:\n",
      "0.6625\n",
      "BAGGING CLASSIFIER:\n",
      "0.54375\n",
      "ADABOOST CLASSIFIER:\n",
      "0.38125\n",
      "GRADIENT BOOSTING CLASSIFIER:\n",
      "0.5625\n",
      "RANDOM FOREST CLASSIFIER:\n",
      "0.615625\n",
      "BAGGING CLASSIFIER:\n",
      "0.496875\n",
      "ADABOOST CLASSIFIER:\n",
      "0.340625\n",
      "GRADIENT BOOSTING CLASSIFIER:\n",
      "0.51875\n",
      "RANDOM FOREST CLASSIFIER:\n",
      "0.6333333333333333\n",
      "BAGGING CLASSIFIER:\n",
      "0.5041666666666667\n",
      "ADABOOST CLASSIFIER:\n",
      "0.4166666666666667\n",
      "GRADIENT BOOSTING CLASSIFIER:\n",
      "0.5833333333333334\n",
      "RANDOM FOREST CLASSIFIER:\n",
      "0.63125\n",
      "BAGGING CLASSIFIER:\n",
      "0.4859375\n",
      "ADABOOST CLASSIFIER:\n",
      "0.3921875\n",
      "GRADIENT BOOSTING CLASSIFIER:\n",
      "0.58125\n"
     ]
    }
   ],
   "source": [
    "df=pd.read_csv('winequality_red.csv')\n",
    "X=df.iloc[:,:-1]\n",
    "Y=df.iloc[:,-1]\n",
    "ensemble(X,Y)"
   ]
  },
  {
   "cell_type": "code",
   "execution_count": 7,
   "id": "04cbb647",
   "metadata": {},
   "outputs": [
    {
     "name": "stdout",
     "output_type": "stream",
     "text": [
      "RANDOM FOREST CLASSIFIER:\n",
      "0.8947368421052632\n",
      "BAGGING CLASSIFIER:\n",
      "0.9122807017543859\n",
      "ADABOOST CLASSIFIER:\n",
      "0.7894736842105263\n",
      "GRADIENT BOOSTING CLASSIFIER:\n",
      "0.9122807017543859\n",
      "RANDOM FOREST CLASSIFIER:\n",
      "0.9122807017543859\n",
      "BAGGING CLASSIFIER:\n",
      "0.9210526315789473\n",
      "ADABOOST CLASSIFIER:\n",
      "0.7017543859649122\n",
      "GRADIENT BOOSTING CLASSIFIER:\n",
      "0.9210526315789473\n",
      "RANDOM FOREST CLASSIFIER:\n",
      "0.9122807017543859\n",
      "BAGGING CLASSIFIER:\n",
      "0.9122807017543859\n",
      "ADABOOST CLASSIFIER:\n",
      "0.6198830409356725\n",
      "GRADIENT BOOSTING CLASSIFIER:\n",
      "0.9181286549707602\n",
      "RANDOM FOREST CLASSIFIER:\n",
      "0.9035087719298246\n",
      "BAGGING CLASSIFIER:\n",
      "0.9166666666666666\n",
      "ADABOOST CLASSIFIER:\n",
      "0.6491228070175439\n",
      "GRADIENT BOOSTING CLASSIFIER:\n",
      "0.9166666666666666\n"
     ]
    }
   ],
   "source": [
    "df=pd.read_csv('breast_cancer.csv')\n",
    "X=df.iloc[:,:-1]\n",
    "Y=df.iloc[:,-1]\n",
    "ensemble(X,Y)"
   ]
  },
  {
   "cell_type": "code",
   "execution_count": 8,
   "id": "fdd881c8",
   "metadata": {},
   "outputs": [
    {
     "name": "stdout",
     "output_type": "stream",
     "text": [
      "<class 'pandas.core.frame.DataFrame'>\n",
      "MultiIndex: 569 entries, (17.99, 10.38, 122.8, 1001.0, 0.1184, 0.2776, 0.3001, 0.1471, 0.2419, 0.07871, 1.095, 0.9053, 8.589, 153.4, 0.006399, 0.04904, 0.05373, 0.01587, 0.03003, 0.006193, 25.38, 17.33, 184.6, 2019.0, 0.1622, 0.6656, 0.7119) to (7.76, 24.54, 47.92, 181.0, 0.05263, 0.04362, 0.0, 0.0, 0.1587, 0.05884, 0.3857, 1.428, 2.548, 19.15, 0.007189, 0.00466, 0.0, 0.0, 0.02676, 0.002783, 9.456, 30.37, 59.16, 268.6, 0.08996, 0.06444, 0.0)\n",
      "Data columns (total 4 columns):\n",
      " #   Column     Non-Null Count  Dtype  \n",
      "---  ------     --------------  -----  \n",
      " 0   569        569 non-null    float64\n",
      " 1   30         569 non-null    float64\n",
      " 2   malignant  569 non-null    float64\n",
      " 3   benign     569 non-null    int64  \n",
      "dtypes: float64(3), int64(1)\n",
      "memory usage: 592.6 KB\n"
     ]
    }
   ],
   "source": [
    "df=pd.read_csv('breast_cancer.csv')\n",
    "df.info()"
   ]
  },
  {
   "cell_type": "code",
   "execution_count": 9,
   "id": "82f188bc",
   "metadata": {},
   "outputs": [
    {
     "name": "stdout",
     "output_type": "stream",
     "text": [
      "<class 'pandas.core.frame.DataFrame'>\n",
      "RangeIndex: 1599 entries, 0 to 1598\n",
      "Data columns (total 12 columns):\n",
      " #   Column                Non-Null Count  Dtype  \n",
      "---  ------                --------------  -----  \n",
      " 0   fixed acidity         1599 non-null   float64\n",
      " 1   volatile acidity      1599 non-null   float64\n",
      " 2   citric acid           1599 non-null   float64\n",
      " 3   residual sugar        1599 non-null   float64\n",
      " 4   chlorides             1599 non-null   float64\n",
      " 5   free sulfur dioxide   1599 non-null   float64\n",
      " 6   total sulfur dioxide  1599 non-null   float64\n",
      " 7   density               1599 non-null   float64\n",
      " 8   pH                    1599 non-null   float64\n",
      " 9   sulphates             1599 non-null   float64\n",
      " 10  alcohol               1599 non-null   float64\n",
      " 11  quality               1599 non-null   int64  \n",
      "dtypes: float64(11), int64(1)\n",
      "memory usage: 150.0 KB\n"
     ]
    }
   ],
   "source": [
    "df=pd.read_csv('winequality_red.csv')\n",
    "df.info()"
   ]
  },
  {
   "cell_type": "code",
   "execution_count": null,
   "id": "b9f7c14c",
   "metadata": {},
   "outputs": [],
   "source": []
  },
  {
   "cell_type": "code",
   "execution_count": null,
   "id": "987a22ed",
   "metadata": {},
   "outputs": [],
   "source": []
  }
 ],
 "metadata": {
  "kernelspec": {
   "display_name": "Python 3 (ipykernel)",
   "language": "python",
   "name": "python3"
  },
  "language_info": {
   "codemirror_mode": {
    "name": "ipython",
    "version": 3
   },
   "file_extension": ".py",
   "mimetype": "text/x-python",
   "name": "python",
   "nbconvert_exporter": "python",
   "pygments_lexer": "ipython3",
   "version": "3.10.6"
  }
 },
 "nbformat": 4,
 "nbformat_minor": 5
}
